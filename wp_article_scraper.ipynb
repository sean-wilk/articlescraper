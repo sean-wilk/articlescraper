{
 "cells": [
  {
   "cell_type": "markdown",
   "metadata": {},
   "source": [
    "Import CSV"
   ]
  },
  {
   "cell_type": "code",
   "execution_count": 2,
   "metadata": {
    "collapsed": true
   },
   "outputs": [],
   "source": [
    "import scrapy\n",
    "import pandas as pd\n",
    "\n",
    "df = pd.read_csv(\"webaddresses.csv\")\n",
    "URLs = list(df.values.flatten())"
   ]
  },
  {
   "cell_type": "markdown",
   "metadata": {},
   "source": [
    "Run Web Scraper"
   ]
  },
  {
   "cell_type": "code",
   "execution_count": 6,
   "metadata": {
    "collapsed": false
   },
   "outputs": [],
   "source": [
    "class ExcerptSpider(scrapy.Spider):\n",
    "    name = \"excerpt_spider\"\n",
    "    start_urls = URLs\n",
    "\n",
    "    def parse(self, response):\n",
    "        SET_SELECTOR = '.set'\n",
    "        for excerpt in response.css(SET_SELECTOR):\n",
    "\n",
    "            NAME_SELECTOR = 'h1 ::text'\n",
    "            yield {\n",
    "                'name': excerpt.css(NAME_SELECTOR).extract(),\n",
    "            }\n",
    "        print (response.css)\n"
   ]
  }
 ],
 "metadata": {
  "kernelspec": {
   "display_name": "Python 3",
   "language": "python",
   "name": "python3"
  },
  "language_info": {
   "codemirror_mode": {
    "name": "ipython",
    "version": 3
   },
   "file_extension": ".py",
   "mimetype": "text/x-python",
   "name": "python",
   "nbconvert_exporter": "python",
   "pygments_lexer": "ipython3",
   "version": "3.5.1"
  }
 },
 "nbformat": 4,
 "nbformat_minor": 0
}
